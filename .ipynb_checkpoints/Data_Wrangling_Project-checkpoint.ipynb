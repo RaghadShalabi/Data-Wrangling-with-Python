{
 "cells": [
  {
   "cell_type": "markdown",
   "metadata": {
    "id": "GNIwe5N7s0e_"
   },
   "source": [
    "# Real-world Data Wrangling"
   ]
  },
  {
   "cell_type": "code",
   "execution_count": 1,
   "metadata": {},
   "outputs": [
    {
     "name": "stdout",
     "output_type": "stream",
     "text": [
      "Requirement already satisfied: kaggle==1.6.12 in d:\\anaconda3\\lib\\site-packages (1.6.12)\n",
      "Requirement already satisfied: six>=1.10 in d:\\anaconda3\\lib\\site-packages (from kaggle==1.6.12) (1.16.0)\n",
      "Requirement already satisfied: certifi>=2023.7.22 in d:\\anaconda3\\lib\\site-packages (from kaggle==1.6.12) (2024.7.4)\n",
      "Requirement already satisfied: python-dateutil in d:\\anaconda3\\lib\\site-packages (from kaggle==1.6.12) (2.8.2)\n",
      "Requirement already satisfied: requests in d:\\anaconda3\\lib\\site-packages (from kaggle==1.6.12) (2.31.0)\n",
      "Requirement already satisfied: tqdm in d:\\anaconda3\\lib\\site-packages (from kaggle==1.6.12) (4.65.0)\n",
      "Requirement already satisfied: python-slugify in d:\\anaconda3\\lib\\site-packages (from kaggle==1.6.12) (5.0.2)\n",
      "Requirement already satisfied: urllib3 in d:\\anaconda3\\lib\\site-packages (from kaggle==1.6.12) (2.0.7)\n",
      "Requirement already satisfied: bleach in d:\\anaconda3\\lib\\site-packages (from kaggle==1.6.12) (4.1.0)\n",
      "Requirement already satisfied: packaging in d:\\anaconda3\\lib\\site-packages (from bleach->kaggle==1.6.12) (23.1)\n",
      "Requirement already satisfied: webencodings in d:\\anaconda3\\lib\\site-packages (from bleach->kaggle==1.6.12) (0.5.1)\n",
      "Requirement already satisfied: text-unidecode>=1.3 in d:\\anaconda3\\lib\\site-packages (from python-slugify->kaggle==1.6.12) (1.3)\n",
      "Requirement already satisfied: charset-normalizer<4,>=2 in d:\\anaconda3\\lib\\site-packages (from requests->kaggle==1.6.12) (2.0.4)\n",
      "Requirement already satisfied: idna<4,>=2.5 in d:\\anaconda3\\lib\\site-packages (from requests->kaggle==1.6.12) (3.4)\n",
      "Requirement already satisfied: colorama in d:\\anaconda3\\lib\\site-packages (from tqdm->kaggle==1.6.12) (0.4.6)\n"
     ]
    }
   ],
   "source": [
    "!python -m pip install kaggle==1.6.12"
   ]
  },
  {
   "cell_type": "code",
   "execution_count": 2,
   "metadata": {},
   "outputs": [
    {
     "name": "stdout",
     "output_type": "stream",
     "text": [
      "Collecting ucimlrepo\n",
      "  Using cached ucimlrepo-0.0.7-py3-none-any.whl.metadata (5.5 kB)\n",
      "Collecting pandas>=1.0.0 (from ucimlrepo)\n",
      "  Using cached pandas-2.2.2-cp311-cp311-win_amd64.whl.metadata (19 kB)\n",
      "Collecting certifi>=2020.12.5 (from ucimlrepo)\n",
      "  Using cached certifi-2024.7.4-py3-none-any.whl.metadata (2.2 kB)\n",
      "Collecting numpy>=1.23.2 (from pandas>=1.0.0->ucimlrepo)\n",
      "  Using cached numpy-2.0.1-cp311-cp311-win_amd64.whl.metadata (60 kB)\n",
      "Collecting python-dateutil>=2.8.2 (from pandas>=1.0.0->ucimlrepo)\n",
      "  Using cached python_dateutil-2.9.0.post0-py2.py3-none-any.whl.metadata (8.4 kB)\n",
      "Collecting pytz>=2020.1 (from pandas>=1.0.0->ucimlrepo)\n",
      "  Using cached pytz-2024.1-py2.py3-none-any.whl.metadata (22 kB)\n",
      "Collecting tzdata>=2022.7 (from pandas>=1.0.0->ucimlrepo)\n",
      "  Using cached tzdata-2024.1-py2.py3-none-any.whl.metadata (1.4 kB)\n",
      "Collecting six>=1.5 (from python-dateutil>=2.8.2->pandas>=1.0.0->ucimlrepo)\n",
      "  Using cached six-1.16.0-py2.py3-none-any.whl.metadata (1.8 kB)\n",
      "Using cached ucimlrepo-0.0.7-py3-none-any.whl (8.0 kB)\n",
      "Using cached certifi-2024.7.4-py3-none-any.whl (162 kB)\n",
      "Using cached pandas-2.2.2-cp311-cp311-win_amd64.whl (11.6 MB)\n",
      "Using cached numpy-2.0.1-cp311-cp311-win_amd64.whl (16.6 MB)\n",
      "Using cached python_dateutil-2.9.0.post0-py2.py3-none-any.whl (229 kB)\n",
      "Using cached pytz-2024.1-py2.py3-none-any.whl (505 kB)\n",
      "Using cached tzdata-2024.1-py2.py3-none-any.whl (345 kB)\n",
      "Using cached six-1.16.0-py2.py3-none-any.whl (11 kB)\n",
      "Installing collected packages: pytz, tzdata, six, numpy, certifi, python-dateutil, pandas, ucimlrepo\n",
      "Successfully installed certifi-2024.7.4 numpy-2.0.1 pandas-2.2.2 python-dateutil-2.9.0.post0 pytz-2024.1 six-1.16.0 tzdata-2024.1 ucimlrepo-0.0.7\n"
     ]
    },
    {
     "name": "stderr",
     "output_type": "stream",
     "text": [
      "ERROR: pip's dependency resolver does not currently take into account all the packages that are installed. This behaviour is the source of the following dependency conflicts.\n",
      "conda-repo-cli 1.0.75 requires requests_mock, which is not installed.\n",
      "gensim 4.3.0 requires FuzzyTM>=0.4.0, which is not installed.\n",
      "astropy 5.3.4 requires numpy<2,>=1.21, but you have numpy 2.0.1 which is incompatible.\n",
      "conda-repo-cli 1.0.75 requires clyent==1.2.1, but you have clyent 1.2.2 which is incompatible.\n",
      "conda-repo-cli 1.0.75 requires python-dateutil==2.8.2, but you have python-dateutil 2.9.0.post0 which is incompatible.\n",
      "contourpy 1.2.0 requires numpy<2.0,>=1.20, but you have numpy 2.0.1 which is incompatible.\n",
      "matplotlib 3.8.0 requires numpy<2,>=1.21, but you have numpy 2.0.1 which is incompatible.\n",
      "numba 0.59.0 requires numpy<1.27,>=1.22, but you have numpy 2.0.1 which is incompatible.\n",
      "pywavelets 1.5.0 requires numpy<2.0,>=1.22.4, but you have numpy 2.0.1 which is incompatible.\n",
      "scipy 1.11.4 requires numpy<1.28.0,>=1.21.6, but you have numpy 2.0.1 which is incompatible.\n",
      "streamlit 1.30.0 requires numpy<2,>=1.19.3, but you have numpy 2.0.1 which is incompatible.\n",
      "WARNING: Target directory C:\\workspace\\certifi already exists. Specify --upgrade to force replacement.\n",
      "WARNING: Target directory C:\\workspace\\certifi-2024.7.4.dist-info already exists. Specify --upgrade to force replacement.\n",
      "WARNING: Target directory C:\\workspace\\dateutil already exists. Specify --upgrade to force replacement.\n",
      "WARNING: Target directory C:\\workspace\\numpy already exists. Specify --upgrade to force replacement.\n",
      "WARNING: Target directory C:\\workspace\\numpy-2.0.1-cp311-cp311-win_amd64.whl already exists. Specify --upgrade to force replacement.\n",
      "WARNING: Target directory C:\\workspace\\numpy-2.0.1.dist-info already exists. Specify --upgrade to force replacement.\n",
      "WARNING: Target directory C:\\workspace\\numpy.libs already exists. Specify --upgrade to force replacement.\n",
      "WARNING: Target directory C:\\workspace\\pandas already exists. Specify --upgrade to force replacement.\n",
      "WARNING: Target directory C:\\workspace\\pandas-2.2.2.dist-info already exists. Specify --upgrade to force replacement.\n",
      "WARNING: Target directory C:\\workspace\\pandas.libs already exists. Specify --upgrade to force replacement.\n",
      "WARNING: Target directory C:\\workspace\\python_dateutil-2.9.0.post0.dist-info already exists. Specify --upgrade to force replacement.\n",
      "WARNING: Target directory C:\\workspace\\pytz already exists. Specify --upgrade to force replacement.\n",
      "WARNING: Target directory C:\\workspace\\pytz-2024.1.dist-info already exists. Specify --upgrade to force replacement.\n",
      "WARNING: Target directory C:\\workspace\\six-1.16.0.dist-info already exists. Specify --upgrade to force replacement.\n",
      "WARNING: Target directory C:\\workspace\\six.py already exists. Specify --upgrade to force replacement.\n",
      "WARNING: Target directory C:\\workspace\\tzdata already exists. Specify --upgrade to force replacement.\n",
      "WARNING: Target directory C:\\workspace\\tzdata-2024.1.dist-info already exists. Specify --upgrade to force replacement.\n",
      "WARNING: Target directory C:\\workspace\\ucimlrepo already exists. Specify --upgrade to force replacement.\n",
      "WARNING: Target directory C:\\workspace\\ucimlrepo-0.0.7.dist-info already exists. Specify --upgrade to force replacement.\n",
      "WARNING: Target directory C:\\workspace\\__pycache__ already exists. Specify --upgrade to force replacement.\n",
      "WARNING: Target directory C:\\workspace\\bin already exists. Specify --upgrade to force replacement.\n"
     ]
    }
   ],
   "source": [
    "!pip install --target=/workspace ucimlrepo"
   ]
  },
  {
   "cell_type": "markdown",
   "metadata": {},
   "source": [
    "**Note:** Restart the kernel to use updated package(s)."
   ]
  },
  {
   "cell_type": "markdown",
   "metadata": {
    "id": "lDYDkH-Zs7Nn"
   },
   "source": [
    "## 1. Gather data"
   ]
  },
  {
   "cell_type": "markdown",
   "metadata": {
    "id": "LbN7z7rcuqpO"
   },
   "source": [
    "### **1.1.** Problem Statement\n",
    "The goal of this project is to analyze housing market trends in King County, USA. Specifically, we want to investigate the relationship between house prices and various attributes such as the number of bedrooms, bathrooms, living space, lot size, and other features. By understanding these relationships, we aim to provide insights into what factors significantly affect house prices in this region."
   ]
  },
  {
   "cell_type": "markdown",
   "metadata": {
    "id": "8AQfBAdUypMm"
   },
   "source": [
    "### **1.2.** Gather at least two datasets using two different data gathering methods"
   ]
  },
  {
   "cell_type": "markdown",
   "metadata": {
    "id": "7e6gS0wL1KTu"
   },
   "source": [
    "#### **Dataset 1**: House Sales in King County, USA (May 2, 2014)\n",
    "Type: *SQL File*\n",
    "\n",
    "Method: *Extract data from a local SQL database* \n",
    "\n",
    "Dataset variables:\n",
    "\n",
    "* date: Date of the home sale.\n",
    "* bedrooms: Number of bedrooms in the house.\n",
    "* bathrooms: Number of bathrooms in the house (with .5 indicating half-bathrooms).\n",
    "* sqft_living: Square footage of the interior living space.\n",
    "* sqft_lot: Square footage of the lot.\n",
    "* floors: Number of floors in the house.\n",
    "* waterfront: Whether the property has a waterfront view (1 for yes, 0 for no).\n",
    "* view: View quality rating (0 to 4).\n",
    "* condition: Condition rating of the house (1 to 5).\n",
    "* sqft_above: Square footage of the house excluding the basement.\n",
    "* sqft_basement: Square footage of the basement.\n",
    "* yr_built: Year the house was built.\n",
    "* yr_renovated: Year the house was renovated (0 if not renovated).\n",
    "* street: Street address of the property.\n",
    "* city: City where the property is located.\n",
    "* statezip: State and ZIP code of the property.\n",
    "* country: Country of the property (usually \"USA\").\n",
    "* price: Sale price of the house."
   ]
  },
  {
   "cell_type": "code",
   "execution_count": 3,
   "metadata": {},
   "outputs": [
    {
     "name": "stdout",
     "output_type": "stream",
     "text": [
      "Requirement already satisfied: pymysql in d:\\anaconda3\\lib\\site-packages (1.1.1)\n"
     ]
    }
   ],
   "source": [
    "!pip install pymysql"
   ]
  },
  {
   "cell_type": "code",
   "execution_count": 4,
   "metadata": {},
   "outputs": [],
   "source": [
    "import pymysql"
   ]
  },
  {
   "cell_type": "code",
   "execution_count": 5,
   "metadata": {},
   "outputs": [],
   "source": [
    "# Database connection parameters\n",
    "host = '127.0.0.1'  \n",
    "user = 'root'  \n",
    "database = 'csv_db 8' \n",
    "table = 'data'  "
   ]
  },
  {
   "cell_type": "code",
   "execution_count": 6,
   "metadata": {},
   "outputs": [],
   "source": [
    "import pandas as pd"
   ]
  },
  {
   "cell_type": "code",
   "execution_count": 7,
   "metadata": {},
   "outputs": [
    {
     "name": "stdout",
     "output_type": "stream",
     "text": [
      "            date bedrooms bathrooms sqft_living sqft_lot floors waterfront  \\\n",
      "0  5/2/2014 0:00        3       1.5        1340     7912    1.5          0   \n",
      "1  5/2/2014 0:00        5       2.5        3650     9050      2          0   \n",
      "2  5/2/2014 0:00        3         2        1930    11947      1          0   \n",
      "3  5/2/2014 0:00        3      2.25        2000     8030      1          0   \n",
      "4  5/2/2014 0:00        4       2.5        1940    10500      1          0   \n",
      "\n",
      "  view condition sqft_above sqft_basement yr_built yr_renovated  \\\n",
      "0    0         3       1340             0     1955         2005   \n",
      "1    4         5       3370           280     1921            0   \n",
      "2    0         4       1930             0     1966            0   \n",
      "3    0         4       1000          1000     1963            0   \n",
      "4    0         4       1140           800     1976         1992   \n",
      "\n",
      "                     street       city  statezip country    price  \n",
      "0      18810 Densmore Ave N  Shoreline  WA 98133     USA   313000  \n",
      "1           709 W Blaine St    Seattle  WA 98119     USA  2384000  \n",
      "2  26206-26214 143rd Ave SE       Kent  WA 98042     USA   342000  \n",
      "3           857 170th Pl NE   Bellevue  WA 98008     USA   420000  \n",
      "4         9105 170th Ave NE    Redmond  WA 98052     USA   550000  \n",
      "Data has been saved to my_extracted_data.csv\n"
     ]
    }
   ],
   "source": [
    "# Establish a connection to the database\n",
    "connection = pymysql.connect(\n",
    "    host=host,\n",
    "    user=user,\n",
    "    database=database\n",
    ")\n",
    "\n",
    "try:\n",
    "    # Create a cursor object to interact with the database\n",
    "    cursor = connection.cursor()\n",
    "\n",
    "    # Write the SQL query to fetch data from the specified table\n",
    "    query = f\"SELECT * FROM {table}\"\n",
    "\n",
    "    # Execute the SQL query\n",
    "    cursor.execute(query)\n",
    "\n",
    "    # Fetch all the rows from the executed query\n",
    "    rows = cursor.fetchall()\n",
    "\n",
    "    # Retrieve column names from the cursor description\n",
    "    column_names = [desc[0] for desc in cursor.description]\n",
    "\n",
    "    # Create a DataFrame from the fetched data\n",
    "    ds1 = pd.DataFrame(rows, columns=column_names)\n",
    "\n",
    "    # Print the first few rows of the DataFrame to verify the data\n",
    "    print(ds1.head())\n",
    "\n",
    "    # Specify the path for the CSV file\n",
    "    csv_file_path = 'my_extracted_data.csv'\n",
    "\n",
    "    # Save the DataFrame to a CSV file\n",
    "    ds1.to_csv(csv_file_path, index=False)\n",
    "    print(f\"Data has been saved to {csv_file_path}\")\n",
    "\n",
    "finally:\n",
    "    # Ensure the database connection is closed\n",
    "    connection.close()"
   ]
  },
  {
   "cell_type": "markdown",
   "metadata": {
    "id": "hoUjq1tPzz7P"
   },
   "source": [
    "#### Dataset 2: House Prices in King County USA\n",
    "\n",
    "Type: *CSV File* \n",
    "\n",
    "Method: *The data was gathered using the \"Downloading files\" method from Kaggle* \n",
    "\n",
    "Dataset variables:\n",
    "\n",
    "* id: Unique identifier for each house.\n",
    "* date: Date when the house was sold.\n",
    "* price: Sale price of the house.\n",
    "* bedrooms: Number of bedrooms in the house.\n",
    "* bathrooms: Number of bathrooms in the house.\n",
    "* sqft_living: Square footage of the living space.\n",
    "* sqft_lot: Square footage of the lot.\n",
    "* floors: Number of floors in the house.\n",
    "* waterfront: Whether the house has a waterfront view (1 if yes, 0 if no).\n",
    "* view: Quality of the view (typically a scale from 0 to 4).\n",
    "* condition: Condition of the house (typically a scale from 1 to 5).\n",
    "* grade: Overall grade given to the house based on various factors (typically a scale from 1 to 13).\n",
    "* sqft_above: Square footage of the house above ground.\n",
    "* sqft_basement: Square footage of the basement.\n",
    "* yr_built: Year the house was built.\n",
    "* yr_renovated: Year the house was last renovated (0 if not renovated).\n",
    "* zipcode: Postal code of the house's location.\n",
    "* lat: Latitude coordinate of the house's location.\n",
    "* long: Longitude coordinate of the house's location.\n",
    "* sqft_living15: Square footage of the living space in 2015.\n",
    "* sqft_lot15: Square footage of the lot in 2015."
   ]
  },
  {
   "cell_type": "code",
   "execution_count": 8,
   "metadata": {
    "id": "6zT0QxRyYmm7"
   },
   "outputs": [
    {
     "name": "stdout",
     "output_type": "stream",
     "text": [
      "           id             date   price  bedrooms  bathrooms  sqft_living  \\\n",
      "0  7129300520  20141013T000000  221900       3.0       1.00         1180   \n",
      "1  6414100192  20141209T000000  538000       3.0       2.25         2570   \n",
      "2  5631500400  20150225T000000  180000       2.0       1.00          770   \n",
      "3  2487200875  20141209T000000  604000       4.0       3.00         1960   \n",
      "4  1954400510  20150218T000000  510000       3.0       2.00         1680   \n",
      "\n",
      "   sqft_lot  floors  waterfront  view  ...  grade  sqft_above  sqft_basement  \\\n",
      "0      5650     1.0           0     0  ...      7        1180              0   \n",
      "1      7242     2.0           0     0  ...      7        2170            400   \n",
      "2     10000     1.0           0     0  ...      6         770              0   \n",
      "3      5000     1.0           0     0  ...      7        1050            910   \n",
      "4      8080     1.0           0     0  ...      8        1680              0   \n",
      "\n",
      "   yr_built  yr_renovated  zipcode      lat     long  sqft_living15  \\\n",
      "0      1955             0    98178  47.5112 -122.257           1340   \n",
      "1      1951          1991    98125  47.7210 -122.319           1690   \n",
      "2      1933             0    98028  47.7379 -122.233           2720   \n",
      "3      1965             0    98136  47.5208 -122.393           1360   \n",
      "4      1987             0    98074  47.6168 -122.045           1800   \n",
      "\n",
      "   sqft_lot15  \n",
      "0        5650  \n",
      "1        7639  \n",
      "2        8062  \n",
      "3        5000  \n",
      "4        7503  \n",
      "\n",
      "[5 rows x 21 columns]\n"
     ]
    }
   ],
   "source": [
    "# Load the dataset\n",
    "ds2 = pd.read_csv(\"housingPrices.csv\")\n",
    "\n",
    "# Print the first few rows of the DataFrame to verify the data\n",
    "print(ds2.head())"
   ]
  },
  {
   "cell_type": "markdown",
   "metadata": {
    "id": "QwSWIVmotLgV"
   },
   "source": [
    "## 2. Assess data\n",
    "\n",
    "##### Data Quality Issues:\n",
    "\n",
    "* Completeness: Presence of missing values.\n",
    "* Accuracy: Ensuring values accurately reflect reality.\n",
    "\n",
    "###### Data Tidiness Issues:\n",
    "\n",
    "* Column arrangement: Ensuring each variable forms a column.\n",
    "* Observational units: Ensuring each observational unit forms a row."
   ]
  },
  {
   "cell_type": "markdown",
   "metadata": {
    "id": "adaK2iPNzVu4"
   },
   "source": [
    "### Quality Issue 1: Missing Values\n",
    "* Visual Inspection: Inspect the dataframe visually for missing values.\n",
    "* Programmatic Inspection: Use df.isnull().sum() to identify missing values."
   ]
  },
  {
   "cell_type": "code",
   "execution_count": 9,
   "metadata": {
    "id": "SpW59kh-zl8d"
   },
   "outputs": [
    {
     "name": "stdout",
     "output_type": "stream",
     "text": [
      "<class 'pandas.core.frame.DataFrame'>\n",
      "RangeIndex: 4431 entries, 0 to 4430\n",
      "Data columns (total 18 columns):\n",
      " #   Column         Non-Null Count  Dtype \n",
      "---  ------         --------------  ----- \n",
      " 0   date           4431 non-null   object\n",
      " 1   bedrooms       4431 non-null   object\n",
      " 2   bathrooms      4431 non-null   object\n",
      " 3   sqft_living    4431 non-null   object\n",
      " 4   sqft_lot       4431 non-null   object\n",
      " 5   floors         4431 non-null   object\n",
      " 6   waterfront     4431 non-null   object\n",
      " 7   view           4431 non-null   object\n",
      " 8   condition      4431 non-null   object\n",
      " 9   sqft_above     4431 non-null   object\n",
      " 10  sqft_basement  4431 non-null   object\n",
      " 11  yr_built       4431 non-null   object\n",
      " 12  yr_renovated   4431 non-null   object\n",
      " 13  street         4431 non-null   object\n",
      " 14  city           4431 non-null   object\n",
      " 15  statezip       4431 non-null   object\n",
      " 16  country        4431 non-null   object\n",
      " 17  price          4431 non-null   object\n",
      "dtypes: object(18)\n",
      "memory usage: 623.2+ KB\n",
      "None\n",
      "<class 'pandas.core.frame.DataFrame'>\n",
      "RangeIndex: 21613 entries, 0 to 21612\n",
      "Data columns (total 21 columns):\n",
      " #   Column         Non-Null Count  Dtype  \n",
      "---  ------         --------------  -----  \n",
      " 0   id             21613 non-null  int64  \n",
      " 1   date           21613 non-null  object \n",
      " 2   price          21613 non-null  int64  \n",
      " 3   bedrooms       21600 non-null  float64\n",
      " 4   bathrooms      21603 non-null  float64\n",
      " 5   sqft_living    21613 non-null  int64  \n",
      " 6   sqft_lot       21613 non-null  int64  \n",
      " 7   floors         21613 non-null  float64\n",
      " 8   waterfront     21613 non-null  int64  \n",
      " 9   view           21613 non-null  int64  \n",
      " 10  condition      21613 non-null  int64  \n",
      " 11  grade          21613 non-null  int64  \n",
      " 12  sqft_above     21613 non-null  int64  \n",
      " 13  sqft_basement  21613 non-null  int64  \n",
      " 14  yr_built       21613 non-null  int64  \n",
      " 15  yr_renovated   21613 non-null  int64  \n",
      " 16  zipcode        21613 non-null  int64  \n",
      " 17  lat            21613 non-null  float64\n",
      " 18  long           21613 non-null  float64\n",
      " 19  sqft_living15  21613 non-null  int64  \n",
      " 20  sqft_lot15     21613 non-null  int64  \n",
      "dtypes: float64(5), int64(15), object(1)\n",
      "memory usage: 3.5+ MB\n",
      "None\n"
     ]
    }
   ],
   "source": [
    "#FILL IN - Inspecting the dataframe visually\n",
    "# Visual Inspection\n",
    "print(ds1.info())\n",
    "print(ds2.info())"
   ]
  },
  {
   "cell_type": "code",
   "execution_count": 10,
   "metadata": {
    "id": "-qfcocStzsKg"
   },
   "outputs": [
    {
     "name": "stdout",
     "output_type": "stream",
     "text": [
      "date             0\n",
      "bedrooms         0\n",
      "bathrooms        0\n",
      "sqft_living      0\n",
      "sqft_lot         0\n",
      "floors           0\n",
      "waterfront       0\n",
      "view             0\n",
      "condition        0\n",
      "sqft_above       0\n",
      "sqft_basement    0\n",
      "yr_built         0\n",
      "yr_renovated     0\n",
      "street           0\n",
      "city             0\n",
      "statezip         0\n",
      "country          0\n",
      "price            0\n",
      "dtype: int64\n",
      "id                0\n",
      "date              0\n",
      "price             0\n",
      "bedrooms         13\n",
      "bathrooms        10\n",
      "sqft_living       0\n",
      "sqft_lot          0\n",
      "floors            0\n",
      "waterfront        0\n",
      "view              0\n",
      "condition         0\n",
      "grade             0\n",
      "sqft_above        0\n",
      "sqft_basement     0\n",
      "yr_built          0\n",
      "yr_renovated      0\n",
      "zipcode           0\n",
      "lat               0\n",
      "long              0\n",
      "sqft_living15     0\n",
      "sqft_lot15        0\n",
      "dtype: int64\n"
     ]
    }
   ],
   "source": [
    "#FILL IN - Inspecting the dataframe programmatically\n",
    "# Programmatic Inspection\n",
    "print(ds1.isnull().sum())\n",
    "print(ds2.isnull().sum())"
   ]
  },
  {
   "cell_type": "markdown",
   "metadata": {},
   "source": [
    "Issue and justification: *ds2 contains missing values in the bedrooms and bathrooms columns. These missing values need to be addressed to ensure accurate analysis. Possible approaches include imputing the missing values with mean/median values or removing rows with missing values, depending on their impact on the dataset.*"
   ]
  },
  {
   "cell_type": "markdown",
   "metadata": {
    "id": "8Be77N4I1AmE"
   },
   "source": [
    "### Quality Issue 2: Incorrect Data Types\n",
    "* Visual Inspection: Inspect the dataframe visually for incorrect data types.\n",
    "* Programmatic Inspection: Use df.dtypes to identify incorrect data types."
   ]
  },
  {
   "cell_type": "code",
   "execution_count": 11,
   "metadata": {
    "id": "iMhHyiyLM2I3"
   },
   "outputs": [
    {
     "name": "stdout",
     "output_type": "stream",
     "text": [
      "date             object\n",
      "bedrooms         object\n",
      "bathrooms        object\n",
      "sqft_living      object\n",
      "sqft_lot         object\n",
      "floors           object\n",
      "waterfront       object\n",
      "view             object\n",
      "condition        object\n",
      "sqft_above       object\n",
      "sqft_basement    object\n",
      "yr_built         object\n",
      "yr_renovated     object\n",
      "street           object\n",
      "city             object\n",
      "statezip         object\n",
      "country          object\n",
      "price            object\n",
      "dtype: object\n",
      "id                 int64\n",
      "date              object\n",
      "price              int64\n",
      "bedrooms         float64\n",
      "bathrooms        float64\n",
      "sqft_living        int64\n",
      "sqft_lot           int64\n",
      "floors           float64\n",
      "waterfront         int64\n",
      "view               int64\n",
      "condition          int64\n",
      "grade              int64\n",
      "sqft_above         int64\n",
      "sqft_basement      int64\n",
      "yr_built           int64\n",
      "yr_renovated       int64\n",
      "zipcode            int64\n",
      "lat              float64\n",
      "long             float64\n",
      "sqft_living15      int64\n",
      "sqft_lot15         int64\n",
      "dtype: object\n"
     ]
    }
   ],
   "source": [
    "#FILL IN - Inspecting the dataframe visually\n",
    "# Visual Inspection\n",
    "print(ds1.dtypes)\n",
    "print(ds2.dtypes)"
   ]
  },
  {
   "cell_type": "code",
   "execution_count": 12,
   "metadata": {
    "id": "bnviRCUI-bb7"
   },
   "outputs": [
    {
     "name": "stdout",
     "output_type": "stream",
     "text": [
      "date             object\n",
      "bedrooms         object\n",
      "bathrooms        object\n",
      "sqft_living      object\n",
      "sqft_lot         object\n",
      "floors           object\n",
      "waterfront       object\n",
      "view             object\n",
      "condition        object\n",
      "sqft_above       object\n",
      "sqft_basement    object\n",
      "yr_built         object\n",
      "yr_renovated     object\n",
      "street           object\n",
      "city             object\n",
      "statezip         object\n",
      "country          object\n",
      "price            object\n",
      "dtype: object\n",
      "id                 int64\n",
      "date              object\n",
      "price              int64\n",
      "bedrooms         float64\n",
      "bathrooms        float64\n",
      "sqft_living        int64\n",
      "sqft_lot           int64\n",
      "floors           float64\n",
      "waterfront         int64\n",
      "view               int64\n",
      "condition          int64\n",
      "grade              int64\n",
      "sqft_above         int64\n",
      "sqft_basement      int64\n",
      "yr_built           int64\n",
      "yr_renovated       int64\n",
      "zipcode            int64\n",
      "lat              float64\n",
      "long             float64\n",
      "sqft_living15      int64\n",
      "sqft_lot15         int64\n",
      "dtype: object\n"
     ]
    }
   ],
   "source": [
    "#FILL IN - Inspecting the dataframe programmatically\n",
    "# Programmatic Inspection\n",
    "print(ds1.dtypes)\n",
    "print(ds2.dtypes)"
   ]
  },
  {
   "cell_type": "markdown",
   "metadata": {},
   "source": [
    "Issue and justification: *ds1 needs to convert columns with numerical data from object to their respective numeric types. This is necessary for performing accurate numerical analysis and operations. For ds2, ensure the date column is in datetime format for time-series analysis.*"
   ]
  },
  {
   "cell_type": "markdown",
   "metadata": {
    "id": "lXhGiYyiwwKN"
   },
   "source": [
    "### Tidiness Issue 1: Column Names\n",
    "* Visual Inspection: Check for inconsistencies in column names.\n",
    "* Programmatic Inspection: Use df.columns to identify inconsistent column names."
   ]
  },
  {
   "cell_type": "code",
   "execution_count": 13,
   "metadata": {
    "id": "fleC5rORI0Xl"
   },
   "outputs": [
    {
     "name": "stdout",
     "output_type": "stream",
     "text": [
      "Index(['date', 'bedrooms', 'bathrooms', 'sqft_living', 'sqft_lot', 'floors',\n",
      "       'waterfront', 'view', 'condition', 'sqft_above', 'sqft_basement',\n",
      "       'yr_built', 'yr_renovated', 'street', 'city', 'statezip', 'country',\n",
      "       'price'],\n",
      "      dtype='object')\n",
      "Index(['id', 'date', 'price', 'bedrooms', 'bathrooms', 'sqft_living',\n",
      "       'sqft_lot', 'floors', 'waterfront', 'view', 'condition', 'grade',\n",
      "       'sqft_above', 'sqft_basement', 'yr_built', 'yr_renovated', 'zipcode',\n",
      "       'lat', 'long', 'sqft_living15', 'sqft_lot15'],\n",
      "      dtype='object')\n"
     ]
    }
   ],
   "source": [
    "#FILL IN - Inspecting the dataframe visually\n",
    "# Visual Inspection\n",
    "print(ds1.columns)\n",
    "print(ds2.columns)"
   ]
  },
  {
   "cell_type": "code",
   "execution_count": 14,
   "metadata": {
    "id": "BTuQw7Rbsio4"
   },
   "outputs": [
    {
     "name": "stdout",
     "output_type": "stream",
     "text": [
      "Index(['date', 'bedrooms', 'bathrooms', 'sqft_living', 'sqft_lot', 'floors',\n",
      "       'waterfront', 'view', 'condition', 'sqft_above', 'sqft_basement',\n",
      "       'yr_built', 'yr_renovated', 'street', 'city', 'statezip', 'country',\n",
      "       'price'],\n",
      "      dtype='object')\n",
      "Index(['id', 'date', 'price', 'bedrooms', 'bathrooms', 'sqft_living',\n",
      "       'sqft_lot', 'floors', 'waterfront', 'view', 'condition', 'grade',\n",
      "       'sqft_above', 'sqft_basement', 'yr_built', 'yr_renovated', 'zipcode',\n",
      "       'lat', 'long', 'sqft_living15', 'sqft_lot15'],\n",
      "      dtype='object')\n"
     ]
    }
   ],
   "source": [
    "#FILL IN - Inspecting the dataframe programmatically\n",
    "# Programmatic Inspection\n",
    "print(ds1.columns)\n",
    "print(ds2.columns)"
   ]
  },
  {
   "cell_type": "markdown",
   "metadata": {},
   "source": [
    "Issue and justification:\n",
    "##### Issue:\n",
    "The column names in the two datasets are inconsistent and contain some extraneous columns:\n",
    "\n",
    "* Dataset 1: Columns include 'statezip' and 'country' which are not present in Dataset 2.\n",
    "* Dataset 2: Contains columns like 'id', 'grade', 'zipcode', 'lat', 'long', 'sqft_living15', 'sqft_lot15', and 'Unnamed: 21', which are not present in Dataset 1 or are redundant\n",
    "\n",
    "##### Justification:\n",
    "Standardizing column names and removing unnecessary columns is crucial for:\n",
    "\n",
    "* Merging Data: Ensures that datasets can be merged or compared accurately by having matching column names.\n",
    "* Consistency: Avoids confusion and errors during data analysis and processing.\n",
    "* Analysis: Maintains a clean dataset by removing irrelevant or redundant information."
   ]
  },
  {
   "cell_type": "markdown",
   "metadata": {
    "id": "4ffMoRGSwzYj"
   },
   "source": [
    "### Tidiness Issue 2: Duplicate Rows\n",
    "* Visual Inspection: Check for duplicate rows in the dataframe.\n",
    "* Programmatic Inspection: Use df.duplicated().sum() to identify duplicate rows."
   ]
  },
  {
   "cell_type": "code",
   "execution_count": 15,
   "metadata": {
    "id": "XUpeoqokw5Qt"
   },
   "outputs": [
    {
     "name": "stdout",
     "output_type": "stream",
     "text": [
      "0\n",
      "0\n"
     ]
    }
   ],
   "source": [
    "#FILL IN - Inspecting the dataframe visually\n",
    "# Visual Inspection\n",
    "print(ds1.duplicated().sum())\n",
    "print(ds2.duplicated().sum())"
   ]
  },
  {
   "cell_type": "code",
   "execution_count": 16,
   "metadata": {
    "id": "c8JK4DoXxtFA"
   },
   "outputs": [
    {
     "name": "stdout",
     "output_type": "stream",
     "text": [
      "0\n",
      "0\n"
     ]
    }
   ],
   "source": [
    "#FILL IN - Inspecting the dataframe programmatically\n",
    "# Programmatic Inspection\n",
    "print(ds1.duplicated().sum())\n",
    "print(ds2.duplicated().sum())"
   ]
  },
  {
   "cell_type": "markdown",
   "metadata": {},
   "source": [
    "Issue and justification: \n",
    "##### Issue:\n",
    "There are no duplicate rows detected in either dataset. This means that each row in both datasets is unique based on the current criteria used for identifying duplicates.\n",
    "\n",
    "##### Justification:\n",
    "Ensuring that there are no duplicate rows is critical for maintaining data integrity:\n",
    "\n",
    "* Data Accuracy: Duplicate rows can skew analysis results and lead to incorrect conclusions.\n",
    "* Efficiency: Removing duplicates can improve the performance of data processing and analysis.\n",
    "* Consistency: Ensures that each observation is represented only once in the dataset.*"
   ]
  },
  {
   "cell_type": "markdown",
   "metadata": {
    "id": "D6gmLnBttpCh"
   },
   "source": [
    "## 3. Clean data"
   ]
  },
  {
   "cell_type": "code",
   "execution_count": 17,
   "metadata": {},
   "outputs": [],
   "source": [
    "# FILL IN - Make copies of the datasets to ensure the raw dataframes \n",
    "# are not impacted\n",
    "# Make copies of the datasets\n",
    "ds1_clean = ds1.copy()\n",
    "ds2_clean = ds2.copy()"
   ]
  },
  {
   "cell_type": "markdown",
   "metadata": {
    "id": "FmFhN52Yyn3l"
   },
   "source": [
    "### **Quality Issue 1: Handle Missing Values**\n",
    "* Strategy: Drop rows with missing values or fill them with appropriate values.\n",
    "* Validation: Check if missing values are handled."
   ]
  },
  {
   "cell_type": "code",
   "execution_count": 18,
   "metadata": {
    "id": "9UejDWrNMW4a"
   },
   "outputs": [],
   "source": [
    "# FILL IN - Apply the cleaning strategy\n",
    "# Drop rows with missing values\n",
    "ds1_clean.dropna(inplace=True)\n",
    "ds2_clean.dropna(inplace=True)"
   ]
  },
  {
   "cell_type": "code",
   "execution_count": 19,
   "metadata": {
    "id": "oUBee-LPytkv"
   },
   "outputs": [
    {
     "name": "stdout",
     "output_type": "stream",
     "text": [
      "date             0\n",
      "bedrooms         0\n",
      "bathrooms        0\n",
      "sqft_living      0\n",
      "sqft_lot         0\n",
      "floors           0\n",
      "waterfront       0\n",
      "view             0\n",
      "condition        0\n",
      "sqft_above       0\n",
      "sqft_basement    0\n",
      "yr_built         0\n",
      "yr_renovated     0\n",
      "street           0\n",
      "city             0\n",
      "statezip         0\n",
      "country          0\n",
      "price            0\n",
      "dtype: int64\n",
      "id               0\n",
      "date             0\n",
      "price            0\n",
      "bedrooms         0\n",
      "bathrooms        0\n",
      "sqft_living      0\n",
      "sqft_lot         0\n",
      "floors           0\n",
      "waterfront       0\n",
      "view             0\n",
      "condition        0\n",
      "grade            0\n",
      "sqft_above       0\n",
      "sqft_basement    0\n",
      "yr_built         0\n",
      "yr_renovated     0\n",
      "zipcode          0\n",
      "lat              0\n",
      "long             0\n",
      "sqft_living15    0\n",
      "sqft_lot15       0\n",
      "dtype: int64\n"
     ]
    }
   ],
   "source": [
    "# FILL IN - Validate the cleaning was successful\n",
    "# Validate cleaning\n",
    "print(ds1_clean.isnull().sum())\n",
    "print(ds2_clean.isnull().sum())"
   ]
  },
  {
   "cell_type": "markdown",
   "metadata": {},
   "source": [
    "Justification: *Dropping Rows with Missing Values: We chose to drop rows with missing values because our datasets are large enough, and dropping these rows does not significantly reduce the dataset size. This approach helps in maintaining data integrity and ensures that our analysis is based on complete records. By verifying that there are no missing values after cleaning, we ensure the completeness of the data used for further analysis.*"
   ]
  },
  {
   "cell_type": "markdown",
   "metadata": {
    "id": "n_DAUbJrymBL"
   },
   "source": [
    "### **Quality Issue 2: Convert Data Types**\n",
    "* Strategy: Convert columns to appropriate data types.\n",
    "* Validation: Check if data types are corrected."
   ]
  },
  {
   "cell_type": "code",
   "execution_count": 20,
   "metadata": {
    "id": "5Yfb-Yu5MTuE"
   },
   "outputs": [],
   "source": [
    "#FILL IN - Apply the cleaning strategy\n",
    "# Convert data types in ds1_clean\n",
    "ds1_clean['date'] = pd.to_datetime(ds1_clean['date'])\n",
    "ds1_clean['bedrooms'] = pd.to_numeric(ds1_clean['bedrooms'], errors='coerce')\n",
    "ds1_clean['bathrooms'] = pd.to_numeric(ds1_clean['bathrooms'], errors='coerce')\n",
    "ds1_clean['sqft_living'] = pd.to_numeric(ds1_clean['sqft_living'], errors='coerce')\n",
    "ds1_clean['sqft_lot'] = pd.to_numeric(ds1_clean['sqft_lot'], errors='coerce')\n",
    "ds1_clean['floors'] = pd.to_numeric(ds1_clean['floors'], errors='coerce')\n",
    "ds1_clean['waterfront'] = pd.to_numeric(ds1_clean['waterfront'], errors='coerce')\n",
    "ds1_clean['view'] = pd.to_numeric(ds1_clean['view'], errors='coerce')\n",
    "ds1_clean['condition'] = pd.to_numeric(ds1_clean['condition'], errors='coerce')\n",
    "ds1_clean['sqft_above'] = pd.to_numeric(ds1_clean['sqft_above'], errors='coerce')\n",
    "ds1_clean['sqft_basement'] = pd.to_numeric(ds1_clean['sqft_basement'], errors='coerce')\n",
    "ds1_clean['yr_built'] = pd.to_numeric(ds1_clean['yr_built'], errors='coerce')\n",
    "ds1_clean['yr_renovated'] = pd.to_numeric(ds1_clean['yr_renovated'], errors='coerce')\n",
    "ds1_clean['price'] = pd.to_numeric(ds1_clean['price'], errors='coerce')\n",
    "\n",
    "# Convert data types in ds2_clean\n",
    "ds2_clean['date'] = pd.to_datetime(ds2_clean['date'])"
   ]
  },
  {
   "cell_type": "code",
   "execution_count": 21,
   "metadata": {
    "id": "ionB2sRaMUmY"
   },
   "outputs": [
    {
     "name": "stdout",
     "output_type": "stream",
     "text": [
      "date             datetime64[ns]\n",
      "bedrooms                  int64\n",
      "bathrooms               float64\n",
      "sqft_living               int64\n",
      "sqft_lot                  int64\n",
      "floors                  float64\n",
      "waterfront                int64\n",
      "view                      int64\n",
      "condition                 int64\n",
      "sqft_above                int64\n",
      "sqft_basement             int64\n",
      "yr_built                  int64\n",
      "yr_renovated              int64\n",
      "street                   object\n",
      "city                     object\n",
      "statezip                 object\n",
      "country                  object\n",
      "price                   float64\n",
      "dtype: object\n",
      "id                        int64\n",
      "date             datetime64[ns]\n",
      "price                     int64\n",
      "bedrooms                float64\n",
      "bathrooms               float64\n",
      "sqft_living               int64\n",
      "sqft_lot                  int64\n",
      "floors                  float64\n",
      "waterfront                int64\n",
      "view                      int64\n",
      "condition                 int64\n",
      "grade                     int64\n",
      "sqft_above                int64\n",
      "sqft_basement             int64\n",
      "yr_built                  int64\n",
      "yr_renovated              int64\n",
      "zipcode                   int64\n",
      "lat                     float64\n",
      "long                    float64\n",
      "sqft_living15             int64\n",
      "sqft_lot15                int64\n",
      "dtype: object\n"
     ]
    }
   ],
   "source": [
    "#FILL IN - Validate the cleaning was successful\n",
    "# Validate cleaning\n",
    "print(ds1_clean.dtypes)\n",
    "print(ds2_clean.dtypes)"
   ]
  },
  {
   "cell_type": "markdown",
   "metadata": {},
   "source": [
    "Justification: *Conversion to Appropriate Data Types: Proper data types ensure accurate data manipulation and analysis. For instance, converting the date column to datetime format allows for date-based operations and comparisons. Converting numerical columns from object to float or int ensures that mathematical operations can be performed correctly. This process also helps in reducing errors during analysis and improves overall data consistency.*"
   ]
  },
  {
   "cell_type": "markdown",
   "metadata": {
    "id": "bIUrrfSNyOPR"
   },
   "source": [
    "### **Tidiness Issue 1: Date and Time in a Single Column**"
   ]
  },
  {
   "cell_type": "markdown",
   "metadata": {},
   "source": [
    "##### Issue:\n",
    "In both datasets, the date column contains both date and time information. This is not ideal because the date and time data represent two different types of information, and combining them in one column makes the data less tidy.\n",
    "\n",
    "##### Solution:\n",
    "\n",
    "Split the date column into two separate columns: one for the date and one for the time."
   ]
  },
  {
   "cell_type": "code",
   "execution_count": 22,
   "metadata": {
    "id": "fib0zAm333bn"
   },
   "outputs": [],
   "source": [
    "# For ds1_clean\n",
    "ds1_clean['date'] = pd.to_datetime(ds1_clean['date'])\n",
    "ds1_clean['date_only'] = ds1_clean['date'].dt.date\n",
    "ds1_clean['time_only'] = ds1_clean['date'].dt.time\n",
    "\n",
    "# For ds2_clean\n",
    "ds2_clean['date'] = pd.to_datetime(ds2_clean['date'])\n",
    "ds2_clean['date_only'] = ds2_clean['date'].dt.date\n",
    "ds2_clean['time_only'] = ds2_clean['date'].dt.time\n",
    "\n",
    "# Drop the original 'date' column if it's no longer needed\n",
    "ds1_clean.drop(columns=['date'], inplace=True)\n",
    "ds2_clean.drop(columns=['date'], inplace=True)"
   ]
  },
  {
   "cell_type": "markdown",
   "metadata": {},
   "source": [
    "Justification:\n",
    "*Separating date and time into distinct columns makes the dataset tidier by ensuring that each variable is represented in its own column, which is essential for proper data analysis.*"
   ]
  },
  {
   "cell_type": "markdown",
   "metadata": {
    "id": "o51Bt8kwyTzk"
   },
   "source": [
    "### **Tidiness Issue 2: Need for Merging Datasets**"
   ]
  },
  {
   "cell_type": "markdown",
   "metadata": {},
   "source": [
    "##### Issue:\n",
    "Since both datasets are intended to address the same research questions, they should be combined into a single dataset. This merging is necessary for a complete analysis, and the need for merging represents a tidiness issue.\n",
    "\n",
    "##### Solution:\n",
    "Merge the datasets after standardizing the column names and ensuring consistency across both datasets."
   ]
  },
  {
   "cell_type": "code",
   "execution_count": 23,
   "metadata": {},
   "outputs": [],
   "source": [
    "# Rename columns to standardize\n",
    "ds2_clean = ds2_clean.rename(columns={'zipcode': 'statezip'})\n",
    "\n",
    "# Combine datasets\n",
    "combined_df = pd.concat([ds1_clean, ds2_clean], ignore_index=True)\n",
    "\n",
    "# Drop any redundant columns post-merging\n",
    "combined_df.drop(columns=['statezip'], inplace=True)"
   ]
  },
  {
   "cell_type": "code",
   "execution_count": 24,
   "metadata": {},
   "outputs": [
    {
     "data": {
      "text/html": [
       "<div>\n",
       "<style scoped>\n",
       "    .dataframe tbody tr th:only-of-type {\n",
       "        vertical-align: middle;\n",
       "    }\n",
       "\n",
       "    .dataframe tbody tr th {\n",
       "        vertical-align: top;\n",
       "    }\n",
       "\n",
       "    .dataframe thead th {\n",
       "        text-align: right;\n",
       "    }\n",
       "</style>\n",
       "<table border=\"1\" class=\"dataframe\">\n",
       "  <thead>\n",
       "    <tr style=\"text-align: right;\">\n",
       "      <th></th>\n",
       "      <th>bedrooms</th>\n",
       "      <th>bathrooms</th>\n",
       "      <th>sqft_living</th>\n",
       "      <th>sqft_lot</th>\n",
       "      <th>floors</th>\n",
       "      <th>waterfront</th>\n",
       "      <th>view</th>\n",
       "      <th>condition</th>\n",
       "      <th>sqft_above</th>\n",
       "      <th>sqft_basement</th>\n",
       "      <th>...</th>\n",
       "      <th>country</th>\n",
       "      <th>price</th>\n",
       "      <th>date_only</th>\n",
       "      <th>time_only</th>\n",
       "      <th>id</th>\n",
       "      <th>grade</th>\n",
       "      <th>lat</th>\n",
       "      <th>long</th>\n",
       "      <th>sqft_living15</th>\n",
       "      <th>sqft_lot15</th>\n",
       "    </tr>\n",
       "  </thead>\n",
       "  <tbody>\n",
       "    <tr>\n",
       "      <th>0</th>\n",
       "      <td>3.0</td>\n",
       "      <td>1.50</td>\n",
       "      <td>1340</td>\n",
       "      <td>7912</td>\n",
       "      <td>1.5</td>\n",
       "      <td>0</td>\n",
       "      <td>0</td>\n",
       "      <td>3</td>\n",
       "      <td>1340</td>\n",
       "      <td>0</td>\n",
       "      <td>...</td>\n",
       "      <td>USA</td>\n",
       "      <td>313000.0</td>\n",
       "      <td>2014-05-02</td>\n",
       "      <td>00:00:00</td>\n",
       "      <td>NaN</td>\n",
       "      <td>NaN</td>\n",
       "      <td>NaN</td>\n",
       "      <td>NaN</td>\n",
       "      <td>NaN</td>\n",
       "      <td>NaN</td>\n",
       "    </tr>\n",
       "    <tr>\n",
       "      <th>1</th>\n",
       "      <td>5.0</td>\n",
       "      <td>2.50</td>\n",
       "      <td>3650</td>\n",
       "      <td>9050</td>\n",
       "      <td>2.0</td>\n",
       "      <td>0</td>\n",
       "      <td>4</td>\n",
       "      <td>5</td>\n",
       "      <td>3370</td>\n",
       "      <td>280</td>\n",
       "      <td>...</td>\n",
       "      <td>USA</td>\n",
       "      <td>2384000.0</td>\n",
       "      <td>2014-05-02</td>\n",
       "      <td>00:00:00</td>\n",
       "      <td>NaN</td>\n",
       "      <td>NaN</td>\n",
       "      <td>NaN</td>\n",
       "      <td>NaN</td>\n",
       "      <td>NaN</td>\n",
       "      <td>NaN</td>\n",
       "    </tr>\n",
       "    <tr>\n",
       "      <th>2</th>\n",
       "      <td>3.0</td>\n",
       "      <td>2.00</td>\n",
       "      <td>1930</td>\n",
       "      <td>11947</td>\n",
       "      <td>1.0</td>\n",
       "      <td>0</td>\n",
       "      <td>0</td>\n",
       "      <td>4</td>\n",
       "      <td>1930</td>\n",
       "      <td>0</td>\n",
       "      <td>...</td>\n",
       "      <td>USA</td>\n",
       "      <td>342000.0</td>\n",
       "      <td>2014-05-02</td>\n",
       "      <td>00:00:00</td>\n",
       "      <td>NaN</td>\n",
       "      <td>NaN</td>\n",
       "      <td>NaN</td>\n",
       "      <td>NaN</td>\n",
       "      <td>NaN</td>\n",
       "      <td>NaN</td>\n",
       "    </tr>\n",
       "    <tr>\n",
       "      <th>3</th>\n",
       "      <td>3.0</td>\n",
       "      <td>2.25</td>\n",
       "      <td>2000</td>\n",
       "      <td>8030</td>\n",
       "      <td>1.0</td>\n",
       "      <td>0</td>\n",
       "      <td>0</td>\n",
       "      <td>4</td>\n",
       "      <td>1000</td>\n",
       "      <td>1000</td>\n",
       "      <td>...</td>\n",
       "      <td>USA</td>\n",
       "      <td>420000.0</td>\n",
       "      <td>2014-05-02</td>\n",
       "      <td>00:00:00</td>\n",
       "      <td>NaN</td>\n",
       "      <td>NaN</td>\n",
       "      <td>NaN</td>\n",
       "      <td>NaN</td>\n",
       "      <td>NaN</td>\n",
       "      <td>NaN</td>\n",
       "    </tr>\n",
       "    <tr>\n",
       "      <th>4</th>\n",
       "      <td>4.0</td>\n",
       "      <td>2.50</td>\n",
       "      <td>1940</td>\n",
       "      <td>10500</td>\n",
       "      <td>1.0</td>\n",
       "      <td>0</td>\n",
       "      <td>0</td>\n",
       "      <td>4</td>\n",
       "      <td>1140</td>\n",
       "      <td>800</td>\n",
       "      <td>...</td>\n",
       "      <td>USA</td>\n",
       "      <td>550000.0</td>\n",
       "      <td>2014-05-02</td>\n",
       "      <td>00:00:00</td>\n",
       "      <td>NaN</td>\n",
       "      <td>NaN</td>\n",
       "      <td>NaN</td>\n",
       "      <td>NaN</td>\n",
       "      <td>NaN</td>\n",
       "      <td>NaN</td>\n",
       "    </tr>\n",
       "  </tbody>\n",
       "</table>\n",
       "<p>5 rows × 24 columns</p>\n",
       "</div>"
      ],
      "text/plain": [
       "   bedrooms  bathrooms  sqft_living  sqft_lot  floors  waterfront  view  \\\n",
       "0       3.0       1.50         1340      7912     1.5           0     0   \n",
       "1       5.0       2.50         3650      9050     2.0           0     4   \n",
       "2       3.0       2.00         1930     11947     1.0           0     0   \n",
       "3       3.0       2.25         2000      8030     1.0           0     0   \n",
       "4       4.0       2.50         1940     10500     1.0           0     0   \n",
       "\n",
       "   condition  sqft_above  sqft_basement  ...  country      price   date_only  \\\n",
       "0          3        1340              0  ...      USA   313000.0  2014-05-02   \n",
       "1          5        3370            280  ...      USA  2384000.0  2014-05-02   \n",
       "2          4        1930              0  ...      USA   342000.0  2014-05-02   \n",
       "3          4        1000           1000  ...      USA   420000.0  2014-05-02   \n",
       "4          4        1140            800  ...      USA   550000.0  2014-05-02   \n",
       "\n",
       "  time_only  id  grade lat long  sqft_living15  sqft_lot15  \n",
       "0  00:00:00 NaN    NaN NaN  NaN            NaN         NaN  \n",
       "1  00:00:00 NaN    NaN NaN  NaN            NaN         NaN  \n",
       "2  00:00:00 NaN    NaN NaN  NaN            NaN         NaN  \n",
       "3  00:00:00 NaN    NaN NaN  NaN            NaN         NaN  \n",
       "4  00:00:00 NaN    NaN NaN  NaN            NaN         NaN  \n",
       "\n",
       "[5 rows x 24 columns]"
      ]
     },
     "execution_count": 24,
     "metadata": {},
     "output_type": "execute_result"
    }
   ],
   "source": [
    "combined_df.head()"
   ]
  },
  {
   "cell_type": "markdown",
   "metadata": {},
   "source": [
    "Justification: *Merging the datasets resolves the tidiness issue by combining the data into a single dataset, making it easier to conduct comprehensive analyses that draw on all the available data.*"
   ]
  },
  {
   "cell_type": "markdown",
   "metadata": {},
   "source": [
    "### **Remove unnecessary variables and combine datasets**\n",
    "\n",
    "Depending on the datasets, you can also peform the combination before the cleaning steps.\n",
    "\n",
    "* Strategy: Remove variables not needed for analysis and combine datasets.\n",
    "* Validation: Check the combined dataset."
   ]
  },
  {
   "cell_type": "code",
   "execution_count": 25,
   "metadata": {},
   "outputs": [
    {
     "name": "stdout",
     "output_type": "stream",
     "text": [
      "    date_only time_only      price  bedrooms  bathrooms  sqft_living\n",
      "0  2014-05-02  00:00:00   313000.0       3.0       1.50         1340\n",
      "1  2014-05-02  00:00:00  2384000.0       5.0       2.50         3650\n",
      "2  2014-05-02  00:00:00   342000.0       3.0       2.00         1930\n",
      "3  2014-05-02  00:00:00   420000.0       3.0       2.25         2000\n",
      "4  2014-05-02  00:00:00   550000.0       4.0       2.50         1940\n",
      "<class 'pandas.core.frame.DataFrame'>\n",
      "RangeIndex: 26028 entries, 0 to 26027\n",
      "Data columns (total 6 columns):\n",
      " #   Column       Non-Null Count  Dtype  \n",
      "---  ------       --------------  -----  \n",
      " 0   date_only    26028 non-null  object \n",
      " 1   time_only    26028 non-null  object \n",
      " 2   price        26028 non-null  float64\n",
      " 3   bedrooms     26028 non-null  float64\n",
      " 4   bathrooms    26028 non-null  float64\n",
      " 5   sqft_living  26028 non-null  int64  \n",
      "dtypes: float64(3), int64(1), object(2)\n",
      "memory usage: 1.2+ MB\n",
      "None\n",
      "              price      bedrooms     bathrooms   sqft_living\n",
      "count  2.602800e+04  26028.000000  26028.000000  26028.000000\n",
      "mean   5.434856e+05      3.378131      2.123598   2090.519556\n",
      "std    4.089295e+05      0.923568      0.771034    925.984925\n",
      "min    0.000000e+00      0.000000      0.000000    370.000000\n",
      "25%    3.240000e+05      3.000000      1.750000   1430.000000\n",
      "50%    4.530000e+05      3.000000      2.250000   1930.000000\n",
      "75%    6.490000e+05      4.000000      2.500000   2560.000000\n",
      "max    2.659000e+07     33.000000      8.000000  13540.000000\n"
     ]
    }
   ],
   "source": [
    "#FILL IN - Remove unnecessary variables \n",
    "# Remove unnecessary columns\n",
    "cleaned_data = combined_df[['date_only','time_only', 'price', 'bedrooms', 'bathrooms', 'sqft_living']]\n",
    "\n",
    "# Validate combination\n",
    "print(cleaned_data.head())\n",
    "print(cleaned_data.info())\n",
    "print(cleaned_data.describe())"
   ]
  },
  {
   "cell_type": "markdown",
   "metadata": {
    "id": "F42urHuzttjF"
   },
   "source": [
    "## 4. Update your data store"
   ]
  },
  {
   "cell_type": "markdown",
   "metadata": {},
   "source": [
    "##### Save the cleaned data to the local database/data store."
   ]
  },
  {
   "cell_type": "code",
   "execution_count": 26,
   "metadata": {
    "id": "V3uay7EJUV_L"
   },
   "outputs": [
    {
     "name": "stdout",
     "output_type": "stream",
     "text": [
      "Cleaned data has been saved to cleaned_data.csv\n"
     ]
    }
   ],
   "source": [
    "#FILL IN - saving data\n",
    "# Save cleaned data\n",
    "cleaned_csv_file_path = 'cleaned_data.csv'\n",
    "cleaned_data.to_csv(cleaned_csv_file_path, index=False)\n",
    "print(f\"Cleaned data has been saved to {cleaned_csv_file_path}\")"
   ]
  },
  {
   "cell_type": "markdown",
   "metadata": {
    "id": "cGy_yddGtzhM"
   },
   "source": [
    "## 5. Answer the research question\n",
    "\n",
    "### **5.1:** Define and answer the research question "
   ]
  },
  {
   "cell_type": "markdown",
   "metadata": {
    "id": "gjedE4s4ZkEd"
   },
   "source": [
    "*Research question:* What factors significantly affect house prices in King County?"
   ]
  },
  {
   "cell_type": "markdown",
   "metadata": {},
   "source": [
    "Visualization 1: Relationship between 'sqft_living' and 'price'"
   ]
  },
  {
   "cell_type": "code",
   "execution_count": 27,
   "metadata": {
    "id": "Lkw3rW9kZmOm"
   },
   "outputs": [
    {
     "data": {
      "image/png": "[encoded data removed]",
      "text/plain": [
       "<Figure size 1000x600 with 1 Axes>"
      ]
     },
     "metadata": {},
     "output_type": "display_data"
    }
   ],
   "source": [
    "#Visual 1 -\n",
    "import matplotlib.pyplot as plt\n",
    "\n",
    "# Scatter plot for total_sqft vs. price\n",
    "plt.figure(figsize=(10, 6))\n",
    "plt.scatter(combined_df['sqft_living'], combined_df['price'], alpha=0.5)\n",
    "plt.title('Relationship between Square Footage and House Prices')\n",
    "plt.xlabel('Square Footage of Living Space')\n",
    "plt.ylabel('House Price')\n",
    "plt.show()"
   ]
  },
  {
   "cell_type": "markdown",
   "metadata": {},
   "source": [
    "*Answer to research question:* \n",
    "The scatter plot shows a positive relationship between square footage of living space and house prices, indicating that larger houses tend to have higher prices."
   ]
  },
  {
   "cell_type": "markdown",
   "metadata": {},
   "source": [
    "Visualization 2: Relationship between 'bedrooms' and 'price'"
   ]
  },
  {
   "cell_type": "code",
   "execution_count": 28,
   "metadata": {
    "id": "6fdK_8ZGZm9R"
   },
   "outputs": [
    {
     "data": {
      "text/plain": [
       "<Figure size 1000x600 with 0 Axes>"
      ]
     },
     "metadata": {},
     "output_type": "display_data"
    },
    {
     "data": {
      "image/png": "[encoded data removed]",
      "text/plain": [
       "<Figure size 640x480 with 1 Axes>"
      ]
     },
     "metadata": {},
     "output_type": "display_data"
    }
   ],
   "source": [
    "#Visual 2 - \n",
    "# Box plot for bedrooms vs. price\n",
    "plt.figure(figsize=(10, 6))\n",
    "combined_df.boxplot(column='price', by='bedrooms', grid=False)\n",
    "plt.title('Relationship between Number of Bedrooms and House Prices')\n",
    "plt.suptitle('')\n",
    "plt.xlabel('Number of Bedrooms')\n",
    "plt.ylabel('House Price')\n",
    "plt.show()"
   ]
  },
  {
   "cell_type": "markdown",
   "metadata": {
    "id": "K5RgvMGUZoHn"
   },
   "source": [
    "*Answer to research question:* \n",
    "The box plot indicates that houses with more bedrooms generally have higher prices, although the relationship is less clear than with square footage."
   ]
  },
  {
   "cell_type": "markdown",
   "metadata": {
    "id": "0ezWXXZVj-TP"
   },
   "source": [
    "### **5.2:** Reflection"
   ]
  },
  {
   "cell_type": "markdown",
   "metadata": {
    "id": "XB3RBDG5kFe1"
   },
   "source": [
    "*Answer:* \n",
    "If I had more time to complete the project, I would:\n",
    "\n",
    "* Investigate further into other features like waterfront, view, and condition to understand their impact on house prices.\n",
    "* Explore additional datasets or external factors such as economic indicators or neighborhood amenities.\n",
    "* Implement advanced machine learning models to predict house prices more accurately based on multiple variables."
   ]
  }
 ],
 "metadata": {
  "colab": {
   "provenance": []
  },
  "kernelspec": {
   "display_name": "Python 3 (ipykernel)",
   "language": "python",
   "name": "python3"
  },
  "language_info": {
   "codemirror_mode": {
    "name": "ipython",
    "version": 3
   },
   "file_extension": ".py",
   "mimetype": "text/x-python",
   "name": "python",
   "nbconvert_exporter": "python",
   "pygments_lexer": "ipython3",
   "version": "3.11.7"
  }
 },
 "nbformat": 4,
 "nbformat_minor": 1
}
